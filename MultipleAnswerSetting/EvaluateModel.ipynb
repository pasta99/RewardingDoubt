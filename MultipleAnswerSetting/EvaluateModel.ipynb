{
 "cells": [
  {
   "cell_type": "code",
   "execution_count": null,
   "metadata": {},
   "outputs": [],
   "source": [
    "from util.Metrics import Metric\n",
    "\n",
    "model_dir = \"/path/to/model/\"\n",
    "dataset_name = \"qampari\"\n",
    "split=\"test\"\n",
    "\n",
    "metric = Metric.F1\n",
    "threshold = 0.5\n",
    "max_confidence = 10\n",
    "is_unsloth = True"
   ]
  },
  {
   "cell_type": "code",
   "execution_count": null,
   "metadata": {},
   "outputs": [],
   "source": [
    "from Evaluation import get_all_metrics\n",
    "import pandas as pd\n",
    "\n",
    "gathered_metrics = []\n",
    "\n",
    "metrics = get_all_metrics(model_dir, dataset_name, split, metric=metric, max_confidence=max_confidence, threshold=threshold, n_bins=11, is_unsloth=True)\n",
    "gathered_metrics.append(metrics)\n",
    "\n",
    "df = pd.DataFrame.from_dict(gathered_metrics) \n",
    "print(df.to_markdown())"
   ]
  },
  {
   "cell_type": "code",
   "execution_count": null,
   "metadata": {},
   "outputs": [],
   "source": [
    "from Evaluation import get_ideal_calibration_curve, get_calibration_curve\n",
    "\n",
    "get_ideal_calibration_curve()\n",
    "get_calibration_curve(model_dir, dataset_name, split, metric, threshold, max_confidence=max_confidence, is_unsloth=is_unsloth)"
   ]
  },
  {
   "cell_type": "code",
   "execution_count": null,
   "metadata": {},
   "outputs": [],
   "source": [
    "from Evaluation import get_histogram_of_confidences\n",
    "\n",
    "get_histogram_of_confidences(model_dir, dataset_name, split, max_confidence=10, is_unsloth=True)"
   ]
  }
 ],
 "metadata": {
  "kernelspec": {
   "display_name": "unsloth_sft2",
   "language": "python",
   "name": "python3"
  },
  "language_info": {
   "codemirror_mode": {
    "name": "ipython",
    "version": 3
   },
   "file_extension": ".py",
   "mimetype": "text/x-python",
   "name": "python",
   "nbconvert_exporter": "python",
   "pygments_lexer": "ipython3",
   "version": "3.11.11"
  }
 },
 "nbformat": 4,
 "nbformat_minor": 2
}
